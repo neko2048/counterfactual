{
 "cells": [
  {
   "cell_type": "code",
   "execution_count": 1,
   "id": "f1719802",
   "metadata": {},
   "outputs": [
    {
     "ename": "ModuleNotFoundError",
     "evalue": "No module named 'seaborn'",
     "output_type": "error",
     "traceback": [
      "\u001b[0;31m---------------------------------------------------------------------------\u001b[0m",
      "\u001b[0;31mModuleNotFoundError\u001b[0m                       Traceback (most recent call last)",
      "Input \u001b[0;32mIn [1]\u001b[0m, in \u001b[0;36m<cell line: 5>\u001b[0;34m()\u001b[0m\n\u001b[1;32m      3\u001b[0m \u001b[38;5;28;01mimport\u001b[39;00m \u001b[38;5;21;01mmatplotlib\u001b[39;00m\u001b[38;5;21;01m.\u001b[39;00m\u001b[38;5;21;01mpyplot\u001b[39;00m \u001b[38;5;28;01mas\u001b[39;00m \u001b[38;5;21;01mplt\u001b[39;00m\n\u001b[1;32m      4\u001b[0m \u001b[38;5;28;01mimport\u001b[39;00m \u001b[38;5;21;01mmatplotlib\u001b[39;00m\u001b[38;5;21;01m.\u001b[39;00m\u001b[38;5;21;01mcolors\u001b[39;00m\n\u001b[0;32m----> 5\u001b[0m \u001b[38;5;28;01mimport\u001b[39;00m \u001b[38;5;21;01mseaborn\u001b[39;00m \u001b[38;5;28;01mas\u001b[39;00m \u001b[38;5;21;01msns\u001b[39;00m\n\u001b[1;32m      6\u001b[0m \u001b[38;5;28;01mimport\u001b[39;00m \u001b[38;5;21;01mxgboost\u001b[39;00m \u001b[38;5;28;01mas\u001b[39;00m \u001b[38;5;21;01mxgb\u001b[39;00m\n\u001b[1;32m      7\u001b[0m \u001b[38;5;28;01mimport\u001b[39;00m \u001b[38;5;21;01mnumpy\u001b[39;00m \u001b[38;5;28;01mas\u001b[39;00m \u001b[38;5;21;01mnp\u001b[39;00m\n",
      "\u001b[0;31mModuleNotFoundError\u001b[0m: No module named 'seaborn'"
     ]
    }
   ],
   "source": [
    "import shap\n",
    "import pandas as pd\n",
    "import matplotlib.pyplot as plt\n",
    "import matplotlib.colors\n",
    "import seaborn as sns\n",
    "import xgboost as xgb\n",
    "import numpy as np\n",
    "\n",
    "shap.initjs()"
   ]
  },
  {
   "cell_type": "markdown",
   "id": "32f11469",
   "metadata": {},
   "source": [
    "1. [Load Data](#Load-data)\n",
    "2. [Train Model](#Train-model)\n",
    "3. [SHAP evaluation](#SHAP-evaluation)"
   ]
  },
  {
   "cell_type": "markdown",
   "id": "eef0f6fe",
   "metadata": {},
   "source": [
    "## Load data"
   ]
  },
  {
   "cell_type": "code",
   "execution_count": null,
   "id": "9e264be3",
   "metadata": {
    "scrolled": false
   },
   "outputs": [],
   "source": [
    "caseType = 2\n",
    "txtSubname = \"T01_A20B5C20Int50R1\"#'contiPositiveAge'# testP10N3comb2\n",
    "oldData = pd.read_csv('./data/oldData{}.csv'.format(txtSubname)).iloc[:, 1:]\n",
    "youngData = pd.read_csv('./data/youngData{}.csv'.format(txtSubname)).iloc[:, 1:]\n",
    "totalData = pd.read_csv('./data/totalData{}.csv'.format(txtSubname)).iloc[:, 1:]\n",
    "coef = np.loadtxt('./data/coef{}.txt'.format(txtSubname))\n",
    "B_sex, B_trt, B_age, B_int = coef[0], coef[1], coef[2], coef[3]\n",
    "print(B_sex, B_trt, B_age, B_int)\n",
    "totalData"
   ]
  },
  {
   "cell_type": "code",
   "execution_count": null,
   "id": "812b1cd1",
   "metadata": {},
   "outputs": [],
   "source": [
    "def normalize(factual, cfactual, oriFactual, oriCFactual):\n",
    "    \n",
    "    globalMin = np.min(pd.concat((oriFactual, oriCFactual)))\n",
    "    globalMax = np.max(pd.concat((oriFactual, oriCFactual)))\n",
    "    \n",
    "    return (factual - globalMin) / (globalMax - globalMin), (cfactual - globalMin) / (globalMax - globalMin)"
   ]
  },
  {
   "cell_type": "code",
   "execution_count": null,
   "id": "8436dbb0",
   "metadata": {},
   "outputs": [],
   "source": [
    "for i in range(1, 4):\n",
    "    totalData[\"y{}\".format(i)], totalData[\"y{}CF\".format(i)] = normalize(totalData[\"y{}\".format(i)], totalData[\"y{}CF\".format(i)], totalData[\"yo{}\".format(i)], totalData[\"yo{}CF\".format(i)])\n",
    "    totalData[\"yo{}\".format(i)], totalData[\"yo{}CF\".format(i)] = normalize(totalData[\"yo{}\".format(i)], totalData[\"yo{}CF\".format(i)], totalData[\"yo{}\".format(i)], totalData[\"yo{}CF\".format(i)])"
   ]
  },
  {
   "cell_type": "code",
   "execution_count": null,
   "id": "11472a55",
   "metadata": {},
   "outputs": [],
   "source": [
    "totalData"
   ]
  },
  {
   "cell_type": "code",
   "execution_count": null,
   "id": "a0f47eae",
   "metadata": {},
   "outputs": [],
   "source": [
    "X = totalData[[\"T\", \"Age\", \"Sex\"]]\n",
    "y = totalData[\"y\"+str(caseType)]"
   ]
  },
  {
   "cell_type": "markdown",
   "id": "57716709",
   "metadata": {},
   "source": [
    "## Train model"
   ]
  },
  {
   "cell_type": "code",
   "execution_count": null,
   "id": "7fc80858",
   "metadata": {},
   "outputs": [],
   "source": [
    "#Train model\n",
    "model = xgb.XGBRegressor(objective=\"reg:squarederror\",max_depth=2)\n",
    "model.fit(X, y)"
   ]
  },
  {
   "cell_type": "markdown",
   "id": "73de0e54",
   "metadata": {},
   "source": [
    "## SHAP evaluation"
   ]
  },
  {
   "cell_type": "code",
   "execution_count": null,
   "id": "a7dc6c39",
   "metadata": {},
   "outputs": [],
   "source": [
    "explainer = shap.TreeExplainer(model)\n",
    "shap_interaction = explainer.shap_interaction_values(X, tree_limit=-1)"
   ]
  },
  {
   "cell_type": "code",
   "execution_count": null,
   "id": "45bd3135",
   "metadata": {},
   "outputs": [],
   "source": [
    "#Get model predictions\n",
    "y_pred = model.predict(X)\n",
    "\n",
    "#Calculate mean prediction \n",
    "mean_pred = np.mean(y_pred)\n",
    "\n",
    "#Sum of interaction values for first employee\n",
    "sum_shap = np.sum(shap_interaction[0])\n",
    "\n",
    "#Values below should be the same\n",
    "print(\"Model prediction: {}\".format(y_pred[0]))\n",
    "print(\"Mean prediction + interaction values: {}\".format(mean_pred+sum_shap))"
   ]
  },
  {
   "cell_type": "code",
   "execution_count": null,
   "id": "ecf951c0",
   "metadata": {},
   "outputs": [],
   "source": [
    "y_pred = model.predict(X)\n",
    "cfX = X.copy()\n",
    "cfX.iloc[:, 0] = 1 - cfX.iloc[:, 0]\n",
    "ycf_pred = model.predict(cfX)\n",
    "fig, axs = plt.subplots(1, 1, figsize=(10, 10))\n",
    "axs.scatter(y_pred, y)\n",
    "axs.scatter(ycf_pred, totalData[\"y{}CF\".format(caseType)])\n"
   ]
  },
  {
   "cell_type": "code",
   "execution_count": null,
   "id": "5bf5c1c4",
   "metadata": {},
   "outputs": [],
   "source": [
    "fig, axs = plt.subplots(1, 1, figsize=(20, 10))\n",
    "axs.scatter(totalData[\"Age\"], y, c=totalData[\"T\"], s=totalData[\"Sex\"]*15+10, cmap=\"jet\")"
   ]
  },
  {
   "cell_type": "code",
   "execution_count": null,
   "id": "58b7352a",
   "metadata": {
    "scrolled": false
   },
   "outputs": [],
   "source": [
    "# Get absolute mean of matrices\n",
    "mean_shap = np.abs(shap_interaction).mean(0)\n",
    "df = pd.DataFrame(mean_shap,index=X.columns,columns=X.columns)\n",
    "\n",
    "# times off diagonal by 2\n",
    "df.where(df.values == np.diagonal(df),df.values*2,inplace=True)\n",
    "totalSum = 0\n",
    "for i in range(mean_shap.shape[0]):\n",
    "    for j in range(mean_shap.shape[1]):\n",
    "        if i <= j:\n",
    "            totalSum += mean_shap[i, j]\n",
    "\n",
    "label = []\n",
    "for i in range(mean_shap.shape[0]):\n",
    "    for j in range(mean_shap.shape[1]):\n",
    "        label.append(\"{:.5f}\\n({:.1f} %)\".format(mean_shap[i, j], mean_shap[i, j]/totalSum*100))\n",
    "label = np.array(label).reshape(mean_shap.shape)\n",
    "# display \n",
    "plt.figure(figsize=(10, 10), facecolor='w', edgecolor='k')\n",
    "sns.set(font_scale=1.5)\n",
    "sns.heatmap(df,cmap='summer',annot=label, fmt=\"\",cbar=False,linewidths=1, linecolor='black')\n",
    "plt.yticks(rotation=0) "
   ]
  },
  {
   "cell_type": "markdown",
   "id": "170bd7fa",
   "metadata": {},
   "source": [
    "## Evaluation"
   ]
  },
  {
   "cell_type": "code",
   "execution_count": null,
   "id": "9be098db",
   "metadata": {},
   "outputs": [],
   "source": [
    "# Copy from https://github.com/AMLab-Amsterdam/CEVAE/evaluation.py\n",
    "class Evaluator(object):\n",
    "    def __init__(self, y, t, y_cf=None, mu0=None, mu1=None):\n",
    "        self.y = y\n",
    "        self.t = t\n",
    "        self.y_cf = y_cf\n",
    "        self.mu0 = mu0\n",
    "        self.mu1 = mu1\n",
    "        if mu0 is not None and mu1 is not None:\n",
    "            self.true_ite = mu1 - mu0\n",
    "\n",
    "    def rmse(self, yPred, yPredCF):\n",
    "        F = np.sqrt(np.mean((self.y - yPred) ** 2))\n",
    "        CF = np.sqrt(np.mean((self.y_cf - yPredCF) ** 2))\n",
    "        total = np.sqrt(np.mean((self.y - yPred) ** 2) + np.mean(self.y_cf - yPredCF) ** 2)\n",
    "        return F, CF, total\n",
    "    \n",
    "    def rmse_ite(self, ypred1, ypred0):\n",
    "        pred_ite = np.zeros_like(self.true_ite)\n",
    "        idx1, idx0 = np.where(self.t == 1), np.where(self.t == 0)\n",
    "        ite1, ite0 = self.y[idx1] - ypred0[idx1], ypred1[idx0] - self.y[idx0]\n",
    "        pred_ite[idx1] = ite1\n",
    "        pred_ite[idx0] = ite0\n",
    "        return np.sqrt(np.mean(np.square(self.true_ite - pred_ite)))\n",
    "\n",
    "    def abs_ate(self, ypred1, ypred0):\n",
    "        return np.abs(np.mean(ypred1 - ypred0) - np.mean(self.true_ite))\n",
    "\n",
    "    def pehe(self, ypred1, ypred0):\n",
    "        return np.sqrt(np.mean(np.square((self.mu1 - self.mu0) - (ypred1 - ypred0))))\n",
    "\n",
    "    def getPredITE(self, ypred1, ypred0):\n",
    "        pred_ite = np.zeros_like(self.true_ite)\n",
    "        idx1, idx0 = np.where(self.t == 1), np.where(self.t == 0)\n",
    "        ite1, ite0 = self.y[idx1] - ypred0[idx1], ypred1[idx0] - self.y[idx0]\n",
    "        pred_ite[idx1] = ite1\n",
    "        pred_ite[idx0] = ite0\n",
    "        return pred_ite"
   ]
  },
  {
   "cell_type": "code",
   "execution_count": null,
   "id": "668c1911",
   "metadata": {
    "scrolled": false
   },
   "outputs": [],
   "source": [
    "xt0 = X.copy()\n",
    "xt0[\"T\"] = 0\n",
    "xt1 = X.copy()\n",
    "xt1[\"T\"] = 1\n",
    "ypred0 = model.predict(xt0)\n",
    "ypred1 = model.predict(xt1)\n",
    "\n",
    "data = totalData\n",
    "mu1, mu0 = np.zeros(ypred0.shape), np.zeros(ypred0.shape)\n",
    "mu1[X[\"T\"] == 1] = data[\"yo{}\".format(caseType)][X[\"T\"] == 1]\n",
    "mu1[X[\"T\"] == 0] = data[\"yo{}CF\".format(caseType)][X[\"T\"] == 0]\n",
    "mu0[X[\"T\"] == 0] = data[\"yo{}\".format(caseType)][X[\"T\"] == 0]\n",
    "mu0[X[\"T\"] == 1] = data[\"yo{}CF\".format(caseType)][X[\"T\"] == 1]\n",
    "\n",
    "eva = Evaluator(y=np.array(data[\"y{}\".format(caseType)]), \n",
    "                t=np.array(data[\"T\"]), \n",
    "                y_cf=np.array(data[\"y{}CF\".format(caseType)]), \n",
    "                mu0=mu0, \n",
    "                mu1=mu1)\n",
    "\n",
    "print(\"Entire\")\n",
    "print(\"RMSE: {}\".format(eva.rmse(yPred=y_pred, yPredCF=ycf_pred)))\n",
    "print(\"ITE : {}\".format(eva.rmse_ite(ypred1=ypred1, ypred0=ypred0)))\n",
    "print(\"ATE : {}\".format(eva.abs_ate(ypred1=ypred1, ypred0=ypred0)))\n",
    "print(\"PEHE: {}\".format(eva.pehe(ypred1=ypred1, ypred0=ypred0)))"
   ]
  },
  {
   "cell_type": "code",
   "execution_count": null,
   "id": "5acb92ed",
   "metadata": {
    "scrolled": false
   },
   "outputs": [],
   "source": [
    "plt.scatter(ypred0, mu0)\n",
    "plt.scatter(ypred1, mu1)\n",
    "plt.plot([0, 1], [0, 1], color='black')\n",
    "plt.show()"
   ]
  },
  {
   "cell_type": "code",
   "execution_count": null,
   "id": "42c0bb1c",
   "metadata": {
    "scrolled": false
   },
   "outputs": [],
   "source": [
    "fig, axs = plt.subplots(1, 1, figsize=(15, 5))\n",
    "axs.scatter((mu1 - mu0), eva.getPredITE(ypred1=ypred1, ypred0=ypred0))\n",
    "axs.scatter(mu1-mu0, mu1-mu0)\n",
    "#plt.xlim(0.2, 0.3)\n",
    "#plt.ylim(0.2, 0.3)\n",
    "plt.suptitle(\"ITE\")"
   ]
  },
  {
   "cell_type": "code",
   "execution_count": null,
   "id": "e7bf991a",
   "metadata": {},
   "outputs": [],
   "source": [
    "fig, axs = plt.subplots(1, 1, figsize=(15, 5))\n",
    "axs.scatter((mu1 - mu0), (ypred1 - ypred0))\n",
    "axs.scatter(mu1-mu0, mu1-mu0)\n",
    "#plt.xlim(0.2, 0.3)\n",
    "#plt.ylim(0.2, 0.3)\n",
    "plt.suptitle(\"ATE / PEHE\")"
   ]
  },
  {
   "cell_type": "code",
   "execution_count": null,
   "id": "2fcf4463",
   "metadata": {},
   "outputs": [],
   "source": [
    "threshold = 0.50"
   ]
  },
  {
   "cell_type": "code",
   "execution_count": null,
   "id": "23467c03",
   "metadata": {},
   "outputs": [],
   "source": [
    "dataSmall = data[data[\"Age\"] <= threshold]\n",
    "dataSmall\n",
    "\n",
    "y = dataSmall[\"y\"+str(caseType)]\n",
    "\n",
    "Xsmall = dataSmall['T']\n",
    "Xsmall = pd.concat((Xsmall, dataSmall.iloc[:, 1], dataSmall.iloc[:, 3]), axis=1)\n",
    "arrXsmall = np.array(Xsmall)\n",
    "ySmall = dataSmall['y{}'.format(caseType)]\n",
    "yCFsmall = dataSmall['y{}CF'.format(caseType)]\n",
    "\n",
    "modelSmall = xgb.XGBRegressor(objective=\"reg:squarederror\",max_depth=2)\n",
    "modelSmall.fit(arrXsmall, ySmall)\n",
    "y_predSmall = modelSmall.predict(arrXsmall)\n",
    "cfXsmall = Xsmall.copy()\n",
    "cfXsmall.iloc[:, 0] = 1 - cfXsmall.iloc[:, 0]\n",
    "ycf_predSmall = modelSmall.predict(np.array(cfXsmall))"
   ]
  },
  {
   "cell_type": "raw",
   "id": "216fed57",
   "metadata": {},
   "source": [
    "plt.scatter(ySmall, y_predSmall)\n",
    "plt.scatter(yCFsmall, ycf_predSmall)\n",
    "plt.plot([-100, 200], [-100, 200])"
   ]
  },
  {
   "cell_type": "raw",
   "id": "ddd99b1d",
   "metadata": {},
   "source": [
    "plt.scatter(yCFsmall[dataSmall[\"T\"] == 1], ycf_predSmall[dataSmall[\"T\"] == 1], c=dataSmall[\"Sex\"][dataSmall[\"T\"] == 1]) #=-1 \n",
    "#plt.scatter(ySmall[dataSmall[\"T\"] == -1], y_predSmall[dataSmall[\"T\"] == -1]) # T=-1\n",
    "plt.colorbar()\n",
    "plt.plot([-100, 200], [-100, 200])"
   ]
  },
  {
   "cell_type": "raw",
   "id": "dfb6b1a4",
   "metadata": {},
   "source": [
    "plt.scatter(ySmall[dataSmall[\"T\"] == 1], y_predSmall[dataSmall[\"T\"] == 1], c=dataSmall[\"Sex\"][dataSmall[\"T\"] == 1]) # T=1\n",
    "#plt.scatter(yCFsmall[dataSmall[\"T\"] == -1], ycf_predSmall[dataSmall[\"T\"] == -1]) # T=1\n",
    "plt.plot([-100, 200], [-100, 200])"
   ]
  },
  {
   "cell_type": "code",
   "execution_count": null,
   "id": "e4a1a30a",
   "metadata": {},
   "outputs": [],
   "source": [
    "xt0 = Xsmall.copy()\n",
    "xt0[\"T\"] = 0\n",
    "xt1 = Xsmall.copy()\n",
    "xt1[\"T\"] = 1\n",
    "ypred0small = modelSmall.predict(np.array(xt0))\n",
    "ypred1small = modelSmall.predict(np.array(xt1))\n",
    "\n",
    "\n",
    "mu1small, mu0small = np.zeros(ypred0small.shape), np.zeros(ypred0small.shape)\n",
    "mu1small[Xsmall[\"T\"] == 1]  = dataSmall[\"yo{}\".format(caseType)][Xsmall[\"T\"] == 1]\n",
    "mu1small[Xsmall[\"T\"] == 0] = dataSmall[\"yo{}CF\".format(caseType)][Xsmall[\"T\"] == 0]\n",
    "mu0small[Xsmall[\"T\"] == 0] = dataSmall[\"yo{}\".format(caseType)][Xsmall[\"T\"] == 0]\n",
    "mu0small[Xsmall[\"T\"] == 1]  = dataSmall[\"yo{}CF\".format(caseType)][Xsmall[\"T\"] == 1]\n",
    "\n",
    "evaSmall = Evaluator(y=np.array(dataSmall[\"y{}\".format(caseType)]), \n",
    "                t=np.array(dataSmall[\"T\"]), \n",
    "                y_cf=np.array(dataSmall[\"y{}CF\".format(caseType)]), \n",
    "                mu0=mu0small, \n",
    "                mu1=mu1small)\n",
    "\n",
    "print(\"Small\")\n",
    "print(\"RMSE:{}\".format(evaSmall.rmse(y_predSmall, ycf_predSmall)))\n",
    "print(\"ITE: {}\".format(evaSmall.rmse_ite(ypred1=ypred1small, ypred0=ypred0small)))\n",
    "print(\"ATE : {}\".format(evaSmall.abs_ate(ypred1=ypred1small, ypred0=ypred0small)))\n",
    "print(\"PEHE: {}\".format(evaSmall.pehe(ypred1=ypred1small, ypred0=ypred0small)))"
   ]
  },
  {
   "cell_type": "code",
   "execution_count": null,
   "id": "ebfca865",
   "metadata": {},
   "outputs": [],
   "source": [
    "plt.scatter(ypred0small, mu0small)\n",
    "plt.scatter(ypred1small, mu1small)\n",
    "#plt.plot([-100, 200], [-100, 200])"
   ]
  },
  {
   "cell_type": "code",
   "execution_count": null,
   "id": "280f718b",
   "metadata": {
    "scrolled": false
   },
   "outputs": [],
   "source": [
    "dataLarge = data[data[\"Age\"] > threshold]\n",
    "dataLarge\n",
    "\n",
    "y = dataLarge[\"y\"+str(caseType)]\n",
    "\n",
    "Xlarge = dataLarge['T']\n",
    "Xlarge = pd.concat((Xlarge, dataLarge.iloc[:, 1], dataLarge.iloc[:, 3]), axis=1)\n",
    "arrXlarge = np.array(Xlarge)\n",
    "yLarge = dataLarge['y{}'.format(caseType)]\n",
    "yCFlarge = dataLarge['y{}CF'.format(caseType)]\n",
    "\n",
    "modelLarge = xgb.XGBRegressor(objective=\"reg:squarederror\",max_depth=2)\n",
    "modelLarge.fit(arrXlarge, yLarge)\n",
    "y_predLarge = modelLarge.predict(arrXlarge)\n",
    "cfXlarge = Xlarge.copy()\n",
    "cfXlarge.iloc[:, 0] = 1 - cfXlarge.iloc[:, 0]\n",
    "ycf_predLarge = modelLarge.predict(np.array(cfXlarge))"
   ]
  },
  {
   "cell_type": "code",
   "execution_count": null,
   "id": "de934d44",
   "metadata": {},
   "outputs": [],
   "source": [
    "xt0 = Xlarge.copy()\n",
    "xt0[\"T\"] = 0\n",
    "xt1 = Xlarge.copy()\n",
    "xt1[\"T\"] = 1\n",
    "ypred0large = modelLarge.predict(np.array(xt0))\n",
    "ypred1large = modelLarge.predict(np.array(xt1))\n",
    "\n",
    "\n",
    "mu1large, mu0large = np.zeros(ypred0large.shape), np.zeros(ypred0large.shape)\n",
    "mu1large[Xlarge[\"T\"] == 1] = dataLarge[\"yo{}\".format(caseType)][Xlarge[\"T\"] == 1]\n",
    "mu1large[Xlarge[\"T\"] == 0] = dataLarge[\"yo{}CF\".format(caseType)][Xlarge[\"T\"] == 0]\n",
    "mu0large[Xlarge[\"T\"] == 0] = dataLarge[\"yo{}\".format(caseType)][Xlarge[\"T\"] == 0]\n",
    "mu0large[Xlarge[\"T\"] == 1] = dataLarge[\"yo{}CF\".format(caseType)][Xlarge[\"T\"] == 1]\n",
    "\n",
    "evaLarge = Evaluator(y=np.array(dataLarge[\"y{}\".format(caseType)]), \n",
    "                t=np.array(dataLarge[\"T\"]), \n",
    "                y_cf=np.array(dataLarge[\"y{}CF\".format(caseType)]), \n",
    "                mu0=mu0large, \n",
    "                mu1=mu1large)\n",
    "\n",
    "print(\"Large\")\n",
    "print(\"RMSE: {}\".format(evaLarge.rmse(y_predLarge, ycf_predLarge)))\n",
    "print(\"ITE : {}\".format(evaLarge.rmse_ite(ypred1=ypred1large, ypred0=ypred0large)))\n",
    "print(\"ATE : {}\".format(evaLarge.abs_ate(ypred1=ypred1large, ypred0=ypred0large)))\n",
    "print(\"PEHE: {}\".format(evaLarge.pehe(ypred1=ypred1large, ypred0=ypred0large)))"
   ]
  },
  {
   "cell_type": "code",
   "execution_count": null,
   "id": "c02f0ea9",
   "metadata": {},
   "outputs": [],
   "source": [
    "plt.scatter(ypred0large, mu0large)\n",
    "plt.scatter(ypred1large, mu1large)\n",
    "#plt.plot([-100, 200], [-100, 200])"
   ]
  },
  {
   "cell_type": "raw",
   "id": "39a0c8ef",
   "metadata": {},
   "source": [
    "plt.scatter(yLarge, y_predLarge)\n",
    "plt.scatter(yCFlarge, ycf_predLarge)\n",
    "plt.plot([-100, 200], [-100, 200])"
   ]
  },
  {
   "cell_type": "raw",
   "id": "f162c902",
   "metadata": {},
   "source": [
    "plt.scatter(yLarge[dataLarge[\"T\"] == -1], y_predLarge[dataLarge[\"T\"] == -1]) # T=-1\n",
    "plt.scatter(yCFlarge[dataLarge[\"T\"] == 1], ycf_predLarge[dataLarge[\"T\"] == 1]) #=-1 \n",
    "plt.plot([-100, 200], [-100, 200])"
   ]
  },
  {
   "cell_type": "raw",
   "id": "c744392d",
   "metadata": {},
   "source": [
    "plt.scatter(yCFlarge[dataLarge[\"T\"] == -1], ycf_predLarge[dataLarge[\"T\"] == -1]) # T=1\n",
    "plt.scatter(yLarge[dataLarge[\"T\"] == 1], y_predLarge[dataLarge[\"T\"] == 1]) # T=1\n",
    "plt.plot([-100, 200], [-100, 200])"
   ]
  },
  {
   "cell_type": "raw",
   "id": "8ef9975e",
   "metadata": {},
   "source": [
    "ticks = [\"T\", \"Age\", \"Sex\"]\n",
    "fig, axs = plt.subplots(3, 3, figsize=(16, 16))\n",
    "for i in range(3):\n",
    "    for j in range(3):\n",
    "        axs[i, j].scatter(X.iloc[:, i], shap_interaction[:, i, j], c=X.iloc[:, j], cmap='jet')\n",
    "        if j == 0:\n",
    "            axs[i, j].set_ylabel(ticks[i], rotation=0)\n",
    "        if i == 2:\n",
    "            axs[i, j].set_xlabel(ticks[j], rotation=0)"
   ]
  },
  {
   "cell_type": "raw",
   "id": "80efe897",
   "metadata": {},
   "source": [
    "# Get SHAP values\n",
    "shap_values = explainer(X)\n",
    "\n",
    "#Display beeswarm plot\n",
    "plt.figure()\n",
    "shap.plots.beeswarm(shap_values)"
   ]
  },
  {
   "cell_type": "raw",
   "id": "0c6e8d15",
   "metadata": {},
   "source": [
    "def dependence_plot(idx, features, shap_interaction, cbarIdx=None, featureName=None, title=None):\n",
    "    columnName = list(features.columns)\n",
    "    norm=plt.Normalize(-1,1)\n",
    "    cmap = matplotlib.colors.LinearSegmentedColormap.from_list(\"\", [\"#1e88e5\", \"#f52757\"])\n",
    "    fig = plt.figure(figsize=(10, 8))\n",
    "    if not isinstance(cbarIdx, int):\n",
    "        cbarIdx = idx\n",
    "    plt.scatter(features.iloc[:, idx], shap_interaction[:, idx], c=features.iloc[:, cbarIdx], cmap=cmap, s=50)\n",
    "    cbar = plt.colorbar()\n",
    "    cbar.set_label('{}'.format(columnName[cbarIdx]), rotation=270, fontsize=20, labelpad=20)\n",
    "    cbarMin, cbarMax = np.min(features.iloc[:, cbarIdx]), np.max(features.iloc[:, cbarIdx])\n",
    "    cbar.set_ticks(np.linspace(cbarMin, cbarMax, 5))\n",
    "    cbar.ax.tick_params(labelsize=20) \n",
    "    plt.xlabel(\"{}\".format(featureName), fontsize=20)\n",
    "    plt.ylabel(\"SHAP interaction value for {}\".format(featureName), fontsize=20)\n",
    "    plt.xticks(np.linspace(np.min(features.iloc[:, idx]), np.max(features.iloc[:, idx]), 3), fontsize=20)\n",
    "    plt.yticks(fontsize=20)\n",
    "    #amplitude = np.max(shap_values) * np.max(shap_values)\n",
    "    #plt.ylim(np.min(shap_values) - amplitude / 2 * 0.01, np.max(shap_values) + amplitude / 2 * 0.01)\n",
    "    if title:\n",
    "        plt.title(title, fontsize=25)"
   ]
  },
  {
   "cell_type": "raw",
   "id": "9e406ac5",
   "metadata": {
    "scrolled": false
   },
   "source": [
    "title = \"SHAP: Dependence Plot in Case {}\".format(caseType)\n",
    "for cbarIdx in range(0, 3):\n",
    "    dependence_plot(0, X, shap_interaction[:, :, cbarIdx], cbarIdx=cbarIdx, featureName='Treatment', title=title)\n",
    "    dependence_plot(1, X, shap_interaction[:, :, cbarIdx], cbarIdx=cbarIdx, featureName='Age', title=title)\n",
    "    dependence_plot(2, X, shap_interaction[:, :, cbarIdx], cbarIdx=cbarIdx, featureName='Sex', title=title)"
   ]
  },
  {
   "cell_type": "raw",
   "id": "97019e5f",
   "metadata": {},
   "source": [
    "# display \n",
    "plt.figure(figsize=(10, 10), facecolor='w', edgecolor='k')\n",
    "sns.set(font_scale=1.5)\n",
    "sns.heatmap(shap_interaction[10], cmap='summer', annot=True, cbar=False, linewidths=1, linecolor='black')\n",
    "plt.yticks(rotation=0) "
   ]
  }
 ],
 "metadata": {
  "kernelspec": {
   "display_name": "Python 3 (ipykernel)",
   "language": "python",
   "name": "python3"
  },
  "language_info": {
   "codemirror_mode": {
    "name": "ipython",
    "version": 3
   },
   "file_extension": ".py",
   "mimetype": "text/x-python",
   "name": "python",
   "nbconvert_exporter": "python",
   "pygments_lexer": "ipython3",
   "version": "3.10.4"
  }
 },
 "nbformat": 4,
 "nbformat_minor": 5
}
