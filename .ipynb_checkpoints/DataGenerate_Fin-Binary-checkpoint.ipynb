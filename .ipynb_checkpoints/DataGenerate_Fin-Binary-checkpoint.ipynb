{
 "cells": [
  {
   "cell_type": "code",
   "execution_count": 2,
   "id": "8d59478e",
   "metadata": {},
   "outputs": [],
   "source": [
    "import numpy as np\n",
    "import pandas as pd\n",
    "import matplotlib.pyplot as plt\n",
    "import random\n",
    "from src.dataGenerator import DataGenerator01"
   ]
  },
  {
   "cell_type": "markdown",
   "id": "f5589d5e",
   "metadata": {},
   "source": [
    "# Data Generation"
   ]
  },
  {
   "cell_type": "markdown",
   "id": "6196bd86",
   "metadata": {},
   "source": [
    "## Parameter Setup"
   ]
  },
  {
   "cell_type": "code",
   "execution_count": 3,
   "id": "0fc536f6",
   "metadata": {},
   "outputs": [],
   "source": [
    "config = {\n",
    "    \"Nold\": 500, \n",
    "    \"oldTreatRate\": 0.012,\n",
    "    \n",
    "    \"Nyoung\": 500,\n",
    "    \"youngTreatRate\": 1-0.012\n",
    "}\n",
    "dataGenerator = DataGenerator(config)\n",
    "Nold = config[\"Nold\"]\n",
    "oldTreatRate = config[\"oldTreatRate\"]\n",
    "Nyoung = config[\"Nyoung\"]\n",
    "youngTreatRate = config[\"youngTreatRate\"]"
   ]
  },
  {
   "cell_type": "code",
   "execution_count": 4,
   "id": "8b487292",
   "metadata": {
    "scrolled": false
   },
   "outputs": [
    {
     "name": "stdout",
     "output_type": "stream",
     "text": [
      "{'A': 5, 'B': 15, 'C': 45, 'D': 95}\n"
     ]
    }
   ],
   "source": [
    "# ========== local control ==========\n",
    "doRandomCoefficient = False#True\n",
    "# ========== local control ==========\n",
    "\n",
    "A = 5\n",
    "B = 15\n",
    "C = 45\n",
    "D = 95\n",
    "\n",
    "if doRandomCoefficient:\n",
    "    set1 = np.arange(1, 11) * (-1) ** np.random.randint(0, 2)\n",
    "    set2 = np.arange(11, 21) * (-1) ** np.random.randint(0, 2)\n",
    "    set3 = np.arange(41, 51) * (-1) ** np.random.randint(0, 2)\n",
    "    set4 = np.arange(91, 101) * (-1) ** np.random.randint(0, 2)\n",
    "    coefConfig = [set1, set2, set3, set4]\n",
    "    random.shuffle(coefConfig)\n",
    "    A = dataGenerator.getCoefficient(candidate = coefConfig[0])\n",
    "    B = dataGenerator.getCoefficient(candidate = coefConfig[1])\n",
    "    C = dataGenerator.getCoefficient(candidate = coefConfig[2])\n",
    "    D = dataGenerator.getCoefficient(candidate = coefConfig[3])\n",
    "\n",
    "coefficients = {\n",
    "    \"A\": A, \n",
    "    \"B\": B, \n",
    "    \"C\": C, \n",
    "    \"D\": D,\n",
    "}\n",
    "\n",
    "print(coefficients)"
   ]
  },
  {
   "cell_type": "markdown",
   "id": "af0bd219",
   "metadata": {},
   "source": [
    "## Patient Data Setup"
   ]
  },
  {
   "cell_type": "code",
   "execution_count": 5,
   "id": "9c89412c",
   "metadata": {},
   "outputs": [],
   "source": [
    "# Age (binary, 0 is young and 1 is old)\n",
    "youngAge = dataGenerator.getAge(ageType=-1)\n",
    "oldAge = dataGenerator.getAge(ageType=1)\n",
    "\n",
    "youngAgeTag = dataGenerator.getAgeTag(ageType=-1)\n",
    "oldAgeTag = dataGenerator.getAgeTag(ageType=1)\n",
    "\n",
    "# Sex (binary, 0 is female and 1 is male)\n",
    "youngSex = dataGenerator.getSex(age=youngAge)\n",
    "oldSex = dataGenerator.getSex(age=oldAge)\n",
    "\n",
    "# Treatment\n",
    "youngT = dataGenerator.getTreatment(sex=youngSex, ageType=-1)\n",
    "oldT = dataGenerator.getTreatment(sex=oldSex, ageType=1)"
   ]
  },
  {
   "cell_type": "code",
   "execution_count": 6,
   "id": "24e4e670",
   "metadata": {},
   "outputs": [],
   "source": [
    "oldData = np.vstack((oldT, oldAge, oldAgeTag, oldSex)).T\n",
    "oldData = pd.DataFrame(oldData)\n",
    "oldData = oldData.rename(columns={0:'T', 1:'Age', 2:'AgeTag', 3:'Sex'})\n",
    "oldData = oldData.sample(frac=1)\n",
    "\n",
    "youngData = np.vstack((youngT, youngAge, youngAgeTag, youngSex)).T\n",
    "youngData = pd.DataFrame(youngData)\n",
    "youngData = youngData.rename(columns={0:'T', 1:'Age', 2:'AgeTag', 3:'Sex'})\n",
    "youngData = youngData.sample(frac=1)"
   ]
  },
  {
   "cell_type": "code",
   "execution_count": 7,
   "id": "da4dfb49",
   "metadata": {},
   "outputs": [
    {
     "name": "stdout",
     "output_type": "stream",
     "text": [
      "3\n"
     ]
    }
   ],
   "source": [
    "print(np.sum(oldData['T']==1))"
   ]
  },
  {
   "cell_type": "code",
   "execution_count": 8,
   "id": "923224b1",
   "metadata": {},
   "outputs": [
    {
     "name": "stdout",
     "output_type": "stream",
     "text": [
      "                T         Age  AgeTag         Sex\n",
      "count  500.000000  500.000000   500.0  500.000000\n",
      "mean     0.006000    0.760000     1.0    0.500000\n",
      "std      0.077304    0.144366     0.0    0.500501\n",
      "min      0.000000    0.520000     1.0    0.000000\n",
      "25%      0.000000    0.640000     1.0    0.000000\n",
      "50%      0.000000    0.760000     1.0    0.500000\n",
      "75%      0.000000    0.880000     1.0    1.000000\n",
      "max      1.000000    1.000000     1.0    1.000000\n",
      "--------------------------------------------------\n",
      "                T         Age  AgeTag         Sex\n",
      "count  500.000000  500.000000   500.0  500.000000\n",
      "mean     0.494000    0.260000    -1.0    0.500000\n",
      "std      0.500465    0.144366     0.0    0.500501\n",
      "min      0.000000    0.020000    -1.0    0.000000\n",
      "25%      0.000000    0.140000    -1.0    0.000000\n",
      "50%      0.000000    0.260000    -1.0    0.500000\n",
      "75%      1.000000    0.380000    -1.0    1.000000\n",
      "max      1.000000    0.500000    -1.0    1.000000\n"
     ]
    }
   ],
   "source": [
    "print(oldData.describe())\n",
    "print('-'*50)\n",
    "print(youngData.describe())"
   ]
  },
  {
   "cell_type": "code",
   "execution_count": 9,
   "id": "73379ca9",
   "metadata": {},
   "outputs": [],
   "source": [
    "noiseScale = 5"
   ]
  },
  {
   "cell_type": "markdown",
   "id": "92de2fc8",
   "metadata": {},
   "source": [
    "## Case 1: Apparent Imbalance\n",
    "$$y = A\\times Sex +$$\n",
    "$$B\\times T + $$\n",
    "$$D\\times Sex \\times T$$"
   ]
  },
  {
   "cell_type": "code",
   "execution_count": 10,
   "id": "06d4d26b",
   "metadata": {},
   "outputs": [],
   "source": [
    "oldData['yo1'] = dataGenerator.getOutcome1(oldData, coefficients)\n",
    "oldData['yo1CF'] = dataGenerator.getOutcome1(oldData, coefficients, CF=True)\n",
    "oldData['y1'] = dataGenerator.addNoise(oldData['yo1'], scale=noiseScale)\n",
    "oldData['y1CF'] = dataGenerator.addNoise(oldData['yo1CF'], scale=noiseScale)\n",
    "\n",
    "youngData['yo1'] = dataGenerator.getOutcome1(youngData, coefficients)\n",
    "youngData['y1'] = dataGenerator.addNoise(youngData['yo1'], scale=noiseScale)\n",
    "youngData['yo1CF'] = dataGenerator.getOutcome1(youngData, coefficients, CF=True)\n",
    "youngData['y1CF'] = dataGenerator.addNoise(youngData['yo1CF'], scale=noiseScale)"
   ]
  },
  {
   "cell_type": "markdown",
   "id": "b5ae9984",
   "metadata": {},
   "source": [
    "## Case 2: Apparent Imbalance\n",
    "$$y = A\\times Sex +$$\n",
    "$$B\\times T + $$\n",
    "$$C\\times Age + $$\n",
    "$$D\\times Age\\times Sex$$"
   ]
  },
  {
   "cell_type": "code",
   "execution_count": 11,
   "id": "c772c510",
   "metadata": {},
   "outputs": [],
   "source": [
    "oldData['yo2'] = dataGenerator.getOutcome2(oldData, coefficients)\n",
    "oldData['yo2CF'] = dataGenerator.getOutcome2(oldData, coefficients, CF=True)\n",
    "oldData['y2'] = dataGenerator.addNoise(oldData['yo2'], scale=noiseScale)\n",
    "oldData['y2CF'] = dataGenerator.addNoise(oldData['yo2CF'], scale=noiseScale)\n",
    "\n",
    "youngData['yo2'] = dataGenerator.getOutcome2(youngData, coefficients)\n",
    "youngData['y2'] = dataGenerator.addNoise(youngData['yo2'], scale=noiseScale)\n",
    "youngData['yo2CF'] = dataGenerator.getOutcome2(youngData, coefficients, CF=True)\n",
    "youngData['y2CF'] = dataGenerator.addNoise(youngData['yo2CF'], scale=noiseScale)"
   ]
  },
  {
   "cell_type": "markdown",
   "id": "c74fd5b6",
   "metadata": {},
   "source": [
    "## Case 3: Genuine Imbalance\n",
    "$$y = A\\times Sex +$$\n",
    "$$B\\times T + $$\n",
    "$$C\\times Age + $$\n",
    "$$D\\times Age\\times T$$"
   ]
  },
  {
   "cell_type": "code",
   "execution_count": 12,
   "id": "c15abce3",
   "metadata": {},
   "outputs": [],
   "source": [
    "oldData['yo3'] = dataGenerator.getOutcome3(oldData, coefficients)\n",
    "oldData['yo3CF'] = dataGenerator.getOutcome3(oldData, coefficients, CF=True)\n",
    "oldData['y3'] = dataGenerator.addNoise(oldData['yo3'], scale=noiseScale)\n",
    "oldData['y3CF'] = dataGenerator.addNoise(oldData['yo3CF'], scale=noiseScale)\n",
    "\n",
    "youngData['yo3'] = dataGenerator.getOutcome3(youngData, coefficients)\n",
    "youngData['y3'] = dataGenerator.addNoise(youngData['yo3'], scale=noiseScale)\n",
    "youngData['yo3CF'] = dataGenerator.getOutcome3(youngData, coefficients, CF=True)\n",
    "youngData['y3CF'] = dataGenerator.addNoise(youngData['yo3CF'], scale=noiseScale)"
   ]
  },
  {
   "cell_type": "code",
   "execution_count": 13,
   "id": "9e5eb909",
   "metadata": {
    "scrolled": false
   },
   "outputs": [
    {
     "data": {
      "text/html": [
       "<div>\n",
       "<style scoped>\n",
       "    .dataframe tbody tr th:only-of-type {\n",
       "        vertical-align: middle;\n",
       "    }\n",
       "\n",
       "    .dataframe tbody tr th {\n",
       "        vertical-align: top;\n",
       "    }\n",
       "\n",
       "    .dataframe thead th {\n",
       "        text-align: right;\n",
       "    }\n",
       "</style>\n",
       "<table border=\"1\" class=\"dataframe\">\n",
       "  <thead>\n",
       "    <tr style=\"text-align: right;\">\n",
       "      <th></th>\n",
       "      <th>T</th>\n",
       "      <th>Age</th>\n",
       "      <th>AgeTag</th>\n",
       "      <th>Sex</th>\n",
       "      <th>yo1</th>\n",
       "      <th>yo1CF</th>\n",
       "      <th>y1</th>\n",
       "      <th>y1CF</th>\n",
       "      <th>yo2</th>\n",
       "      <th>yo2CF</th>\n",
       "      <th>y2</th>\n",
       "      <th>y2CF</th>\n",
       "      <th>yo3</th>\n",
       "      <th>yo3CF</th>\n",
       "      <th>y3</th>\n",
       "      <th>y3CF</th>\n",
       "    </tr>\n",
       "  </thead>\n",
       "  <tbody>\n",
       "    <tr>\n",
       "      <th>7</th>\n",
       "      <td>1.0</td>\n",
       "      <td>0.50</td>\n",
       "      <td>-1.0</td>\n",
       "      <td>1.0</td>\n",
       "      <td>115.0</td>\n",
       "      <td>5.0</td>\n",
       "      <td>112.089926</td>\n",
       "      <td>3.573431</td>\n",
       "      <td>90.0</td>\n",
       "      <td>75.0</td>\n",
       "      <td>94.923644</td>\n",
       "      <td>71.604986</td>\n",
       "      <td>90.0</td>\n",
       "      <td>27.5</td>\n",
       "      <td>93.941051</td>\n",
       "      <td>14.422621</td>\n",
       "    </tr>\n",
       "    <tr>\n",
       "      <th>363</th>\n",
       "      <td>0.0</td>\n",
       "      <td>0.22</td>\n",
       "      <td>-1.0</td>\n",
       "      <td>0.0</td>\n",
       "      <td>0.0</td>\n",
       "      <td>15.0</td>\n",
       "      <td>0.226608</td>\n",
       "      <td>12.301237</td>\n",
       "      <td>9.9</td>\n",
       "      <td>24.9</td>\n",
       "      <td>5.055656</td>\n",
       "      <td>24.808224</td>\n",
       "      <td>9.9</td>\n",
       "      <td>45.8</td>\n",
       "      <td>4.876369</td>\n",
       "      <td>48.851800</td>\n",
       "    </tr>\n",
       "    <tr>\n",
       "      <th>313</th>\n",
       "      <td>0.0</td>\n",
       "      <td>0.92</td>\n",
       "      <td>1.0</td>\n",
       "      <td>0.0</td>\n",
       "      <td>0.0</td>\n",
       "      <td>15.0</td>\n",
       "      <td>0.454399</td>\n",
       "      <td>8.921788</td>\n",
       "      <td>41.4</td>\n",
       "      <td>56.4</td>\n",
       "      <td>39.454351</td>\n",
       "      <td>54.511830</td>\n",
       "      <td>41.4</td>\n",
       "      <td>143.8</td>\n",
       "      <td>44.339846</td>\n",
       "      <td>142.198441</td>\n",
       "    </tr>\n",
       "    <tr>\n",
       "      <th>472</th>\n",
       "      <td>0.0</td>\n",
       "      <td>0.22</td>\n",
       "      <td>-1.0</td>\n",
       "      <td>0.0</td>\n",
       "      <td>0.0</td>\n",
       "      <td>15.0</td>\n",
       "      <td>-0.227097</td>\n",
       "      <td>9.802701</td>\n",
       "      <td>9.9</td>\n",
       "      <td>24.9</td>\n",
       "      <td>9.954021</td>\n",
       "      <td>25.560038</td>\n",
       "      <td>9.9</td>\n",
       "      <td>45.8</td>\n",
       "      <td>10.321937</td>\n",
       "      <td>57.070405</td>\n",
       "    </tr>\n",
       "    <tr>\n",
       "      <th>242</th>\n",
       "      <td>1.0</td>\n",
       "      <td>0.30</td>\n",
       "      <td>-1.0</td>\n",
       "      <td>1.0</td>\n",
       "      <td>115.0</td>\n",
       "      <td>5.0</td>\n",
       "      <td>109.666010</td>\n",
       "      <td>2.087747</td>\n",
       "      <td>62.0</td>\n",
       "      <td>47.0</td>\n",
       "      <td>67.122596</td>\n",
       "      <td>50.314040</td>\n",
       "      <td>62.0</td>\n",
       "      <td>18.5</td>\n",
       "      <td>47.598527</td>\n",
       "      <td>26.471150</td>\n",
       "    </tr>\n",
       "    <tr>\n",
       "      <th>...</th>\n",
       "      <td>...</td>\n",
       "      <td>...</td>\n",
       "      <td>...</td>\n",
       "      <td>...</td>\n",
       "      <td>...</td>\n",
       "      <td>...</td>\n",
       "      <td>...</td>\n",
       "      <td>...</td>\n",
       "      <td>...</td>\n",
       "      <td>...</td>\n",
       "      <td>...</td>\n",
       "      <td>...</td>\n",
       "      <td>...</td>\n",
       "      <td>...</td>\n",
       "      <td>...</td>\n",
       "      <td>...</td>\n",
       "    </tr>\n",
       "    <tr>\n",
       "      <th>425</th>\n",
       "      <td>0.0</td>\n",
       "      <td>0.44</td>\n",
       "      <td>-1.0</td>\n",
       "      <td>0.0</td>\n",
       "      <td>0.0</td>\n",
       "      <td>15.0</td>\n",
       "      <td>-7.693402</td>\n",
       "      <td>21.518789</td>\n",
       "      <td>19.8</td>\n",
       "      <td>34.8</td>\n",
       "      <td>14.035727</td>\n",
       "      <td>39.407194</td>\n",
       "      <td>19.8</td>\n",
       "      <td>76.6</td>\n",
       "      <td>18.304635</td>\n",
       "      <td>77.916219</td>\n",
       "    </tr>\n",
       "    <tr>\n",
       "      <th>154</th>\n",
       "      <td>1.0</td>\n",
       "      <td>0.18</td>\n",
       "      <td>-1.0</td>\n",
       "      <td>1.0</td>\n",
       "      <td>115.0</td>\n",
       "      <td>5.0</td>\n",
       "      <td>113.665184</td>\n",
       "      <td>-1.632951</td>\n",
       "      <td>45.2</td>\n",
       "      <td>30.2</td>\n",
       "      <td>50.079704</td>\n",
       "      <td>25.362132</td>\n",
       "      <td>45.2</td>\n",
       "      <td>13.1</td>\n",
       "      <td>44.201027</td>\n",
       "      <td>10.840084</td>\n",
       "    </tr>\n",
       "    <tr>\n",
       "      <th>474</th>\n",
       "      <td>0.0</td>\n",
       "      <td>0.34</td>\n",
       "      <td>-1.0</td>\n",
       "      <td>0.0</td>\n",
       "      <td>0.0</td>\n",
       "      <td>15.0</td>\n",
       "      <td>6.295050</td>\n",
       "      <td>18.306382</td>\n",
       "      <td>15.3</td>\n",
       "      <td>30.3</td>\n",
       "      <td>10.658853</td>\n",
       "      <td>29.207530</td>\n",
       "      <td>15.3</td>\n",
       "      <td>62.6</td>\n",
       "      <td>16.011461</td>\n",
       "      <td>74.589826</td>\n",
       "    </tr>\n",
       "    <tr>\n",
       "      <th>114</th>\n",
       "      <td>0.0</td>\n",
       "      <td>0.82</td>\n",
       "      <td>1.0</td>\n",
       "      <td>1.0</td>\n",
       "      <td>5.0</td>\n",
       "      <td>115.0</td>\n",
       "      <td>5.275925</td>\n",
       "      <td>120.729915</td>\n",
       "      <td>119.8</td>\n",
       "      <td>134.8</td>\n",
       "      <td>129.908279</td>\n",
       "      <td>140.697574</td>\n",
       "      <td>41.9</td>\n",
       "      <td>134.8</td>\n",
       "      <td>50.610649</td>\n",
       "      <td>137.662000</td>\n",
       "    </tr>\n",
       "    <tr>\n",
       "      <th>499</th>\n",
       "      <td>0.0</td>\n",
       "      <td>0.80</td>\n",
       "      <td>1.0</td>\n",
       "      <td>0.0</td>\n",
       "      <td>0.0</td>\n",
       "      <td>15.0</td>\n",
       "      <td>-4.303276</td>\n",
       "      <td>6.543725</td>\n",
       "      <td>36.0</td>\n",
       "      <td>51.0</td>\n",
       "      <td>26.888026</td>\n",
       "      <td>58.509227</td>\n",
       "      <td>36.0</td>\n",
       "      <td>127.0</td>\n",
       "      <td>30.105247</td>\n",
       "      <td>132.202243</td>\n",
       "    </tr>\n",
       "  </tbody>\n",
       "</table>\n",
       "<p>1000 rows × 16 columns</p>\n",
       "</div>"
      ],
      "text/plain": [
       "       T   Age  AgeTag  Sex    yo1  yo1CF          y1        y1CF    yo2  \\\n",
       "7    1.0  0.50    -1.0  1.0  115.0    5.0  112.089926    3.573431   90.0   \n",
       "363  0.0  0.22    -1.0  0.0    0.0   15.0    0.226608   12.301237    9.9   \n",
       "313  0.0  0.92     1.0  0.0    0.0   15.0    0.454399    8.921788   41.4   \n",
       "472  0.0  0.22    -1.0  0.0    0.0   15.0   -0.227097    9.802701    9.9   \n",
       "242  1.0  0.30    -1.0  1.0  115.0    5.0  109.666010    2.087747   62.0   \n",
       "..   ...   ...     ...  ...    ...    ...         ...         ...    ...   \n",
       "425  0.0  0.44    -1.0  0.0    0.0   15.0   -7.693402   21.518789   19.8   \n",
       "154  1.0  0.18    -1.0  1.0  115.0    5.0  113.665184   -1.632951   45.2   \n",
       "474  0.0  0.34    -1.0  0.0    0.0   15.0    6.295050   18.306382   15.3   \n",
       "114  0.0  0.82     1.0  1.0    5.0  115.0    5.275925  120.729915  119.8   \n",
       "499  0.0  0.80     1.0  0.0    0.0   15.0   -4.303276    6.543725   36.0   \n",
       "\n",
       "     yo2CF          y2        y2CF   yo3  yo3CF         y3        y3CF  \n",
       "7     75.0   94.923644   71.604986  90.0   27.5  93.941051   14.422621  \n",
       "363   24.9    5.055656   24.808224   9.9   45.8   4.876369   48.851800  \n",
       "313   56.4   39.454351   54.511830  41.4  143.8  44.339846  142.198441  \n",
       "472   24.9    9.954021   25.560038   9.9   45.8  10.321937   57.070405  \n",
       "242   47.0   67.122596   50.314040  62.0   18.5  47.598527   26.471150  \n",
       "..     ...         ...         ...   ...    ...        ...         ...  \n",
       "425   34.8   14.035727   39.407194  19.8   76.6  18.304635   77.916219  \n",
       "154   30.2   50.079704   25.362132  45.2   13.1  44.201027   10.840084  \n",
       "474   30.3   10.658853   29.207530  15.3   62.6  16.011461   74.589826  \n",
       "114  134.8  129.908279  140.697574  41.9  134.8  50.610649  137.662000  \n",
       "499   51.0   26.888026   58.509227  36.0  127.0  30.105247  132.202243  \n",
       "\n",
       "[1000 rows x 16 columns]"
      ]
     },
     "execution_count": 13,
     "metadata": {},
     "output_type": "execute_result"
    }
   ],
   "source": [
    "totalData = pd.concat([oldData, youngData], axis=0).sample(frac=1)\n",
    "totalData"
   ]
  },
  {
   "cell_type": "markdown",
   "id": "49762f40",
   "metadata": {},
   "source": [
    "## Quick View"
   ]
  },
  {
   "cell_type": "code",
   "execution_count": 15,
   "id": "21f17d72",
   "metadata": {},
   "outputs": [],
   "source": [
    "# ========== local control ==========\n",
    "doDraw = True\n",
    "doSaveCSV = True\n",
    "txtSubname = \"zeroOne\"\n",
    "# ========== local control ==========\n",
    "def countNumber(data, x, y):\n",
    "    uniqueX, uniqueY = np.unique(data[x]), np.unique(data[y])\n",
    "    countGrid = np.zeros((len(uniqueX), len(uniqueY)))\n",
    "    for i in range(countGrid.shape[0]): # x length\n",
    "        for j in range(countGrid.shape[1]): # y length\n",
    "            countGrid[i, j] = np.sum(np.logical_and(data[x] == uniqueX[i], data[y] == uniqueY[j]))\n",
    "    return countGrid\n",
    "\n",
    "def drawGrid(data, x, y, title=None, figsize=(5, 5)):\n",
    "    countGrid = countNumber(data, x, y)\n",
    "    fig, axs = plt.subplots(1, 1, figsize=figsize)\n",
    "    plt.pcolormesh(countGrid.T, cmap=\"autumn\", edgecolors='black')\n",
    "    for i in range(countGrid.shape[0]):\n",
    "        for j in range(countGrid.shape[1]):\n",
    "            plt.text(i+0.5, j+0.5, int(countGrid[i, j]), va=\"center\", ha=\"center\", size=20)\n",
    "    plt.xlabel(x, fontsize=15)\n",
    "    plt.ylabel(y, fontsize=15)\n",
    "    if len(np.unique(data[x])) == 2:\n",
    "        plt.xticks([0.5, 1.5], [str(int(x)) for x in np.unique(data[x])], fontsize=15)\n",
    "        plt.yticks([0.5, 1.5], [str(int(x)) for x in np.unique(data[y])], fontsize=15)\n",
    "    if title:\n",
    "        plt.title(title, fontsize=15)\n",
    "    plt.show()"
   ]
  },
  {
   "cell_type": "code",
   "execution_count": 16,
   "id": "fb39fbce",
   "metadata": {},
   "outputs": [
    {
     "name": "stdout",
     "output_type": "stream",
     "text": [
      "Data saved\n"
     ]
    }
   ],
   "source": [
    "if doSaveCSV:\n",
    "    oldData.to_csv(\"data/oldData{}.csv\".format(txtSubname))\n",
    "    youngData.to_csv(\"data/youngData{}.csv\".format(txtSubname))\n",
    "    totalData.to_csv(\"data/totalData{}.csv\".format(txtSubname))\n",
    "    np.savetxt('data/coef.txt', np.array([A, B, C, D]))\n",
    "    print(\"Data saved\")"
   ]
  },
  {
   "cell_type": "code",
   "execution_count": 17,
   "id": "d1614e21",
   "metadata": {},
   "outputs": [
    {
     "data": {
      "image/png": "[encoded data removed]",
      "text/plain": [
       "<Figure size 360x360 with 1 Axes>"
      ]
     },
     "metadata": {
      "needs_background": "light"
     },
     "output_type": "display_data"
    },
    {
     "data": {
      "image/png": "[encoded data removed]",
      "text/plain": [
       "<Figure size 360x360 with 1 Axes>"
      ]
     },
     "metadata": {
      "needs_background": "light"
     },
     "output_type": "display_data"
    },
    {
     "data": {
      "image/png": "[encoded data removed]",
      "text/plain": [
       "<Figure size 360x360 with 1 Axes>"
      ]
     },
     "metadata": {
      "needs_background": "light"
     },
     "output_type": "display_data"
    }
   ],
   "source": [
    "# ========== draw Old/Young/Overall Sex - Treatment ==========\n",
    "if doDraw: \n",
    "    drawGrid(oldData, 'Sex', 'T', title=\"Number Distribution of Old Sex-Treatment\")\n",
    "    drawGrid(youngData, 'Sex', 'T', title=\"Number Distribution of Young Sex-Treatment\")\n",
    "    drawGrid(totalData, 'Sex', 'T', title=\"Number Distribution of Total Sex-Treatment\")"
   ]
  },
  {
   "cell_type": "code",
   "execution_count": null,
   "id": "243bdcd7",
   "metadata": {},
   "outputs": [],
   "source": [
    "countGrid = countNumber(totalData, 'Age', 'Sex')\n",
    "fig, axs = plt.subplots(1, 1, figsize=(25, 5))\n",
    "plt.pcolormesh(countGrid.T, cmap=\"autumn\", edgecolors='black')\n",
    "for i in range(countGrid.shape[0]):\n",
    "    for j in range(countGrid.shape[1]):\n",
    "        plt.text(i+0.5, j+0.5, int(countGrid[i, j]), va=\"center\", ha=\"center\", size=20)\n",
    "plt.xlabel('Age * 100', fontsize=20)\n",
    "plt.ylabel('Sex', fontsize=20)\n",
    "plt.xticks([x+0.5 for x in range(len(np.unique(totalData['Age'])))], [str(int(x*100)) for x in np.unique(totalData['Age'])], fontsize=15)\n",
    "plt.yticks([0.5, 1.5], [str(int(x)) for x in np.unique(totalData['Sex'])], fontsize=20)\n",
    "if True:\n",
    "    plt.title(\"Number Distribution of Total Age-Sex\", fontsize=30)\n",
    "plt.show()"
   ]
  },
  {
   "cell_type": "code",
   "execution_count": null,
   "id": "b96f17eb",
   "metadata": {
    "scrolled": false
   },
   "outputs": [],
   "source": [
    "countGrid = countNumber(totalData, 'Age', 'T')\n",
    "fig, axs = plt.subplots(1, 1, figsize=(25, 5))\n",
    "plt.pcolormesh(countGrid.T, cmap=\"autumn\", edgecolors='black')\n",
    "for i in range(countGrid.shape[0]):\n",
    "    for j in range(countGrid.shape[1]):\n",
    "        plt.text(i+0.5, j+0.5, int(countGrid[i, j]), va=\"center\", ha=\"center\", size=20)\n",
    "plt.xlabel('Age * 100', fontsize=20)\n",
    "plt.ylabel('Treatment', fontsize=20)\n",
    "plt.xticks([x+0.5 for x in range(len(np.unique(totalData['Age'])))], [str(int(x*100)) for x in np.unique(totalData['Age'])], fontsize=15)\n",
    "plt.yticks([0.5, 1.5], [str(int(x)) for x in np.unique(totalData['Sex'])], fontsize=20)\n",
    "if True:\n",
    "    plt.title(\"Number Distribution of Total Age-Treatment\", fontsize=30)\n",
    "plt.show()"
   ]
  },
  {
   "cell_type": "code",
   "execution_count": null,
   "id": "bc7c8f61",
   "metadata": {},
   "outputs": [],
   "source": [
    "def drawOutcomesVersusRandom(data, yType, title):\n",
    "    uniqueOutcome, countUnique = np.unique(data['yo'+yType], return_counts=True)\n",
    "\n",
    "    fig, axs = plt.subplots(1, 1, figsize=(10, 10))\n",
    "    for i in range(len(uniqueOutcome)):\n",
    "        if np.sum([(data['T'] == 1) * (data['yo'+yType] == uniqueOutcome[i]) * (data['Age'] == 1)]):\n",
    "            VP = plt.violinplot(np.array(data['y'+yType][(data['T'] == 1) * (data['yo'+yType] == uniqueOutcome[i]) * (data['Age'] == 1)]), \\\n",
    "                          positions=[uniqueOutcome[i]], widths=10)\n",
    "            for pc in VP['bodies']:\n",
    "                pc.set_facecolor('green')\n",
    "                pc.set_edgecolor('green')\n",
    "            for partname in ('cbars','cmins','cmaxes'):\n",
    "                vp = VP[partname]\n",
    "                vp.set_edgecolor('green')\n",
    "                vp.set_facecolor('green')\n",
    "                vp.set_linewidth(1)\n",
    "            plt.text(x=uniqueOutcome[i], y=uniqueOutcome[i] + 1.1 * (np.max(data['y'+yType][data['yo'+yType] == uniqueOutcome[i]])-uniqueOutcome[i]), \n",
    "                     s=np.array(countUnique, dtype=str)[i], color='green', fontsize=15, ha='center')\n",
    "        \n",
    "        elif np.sum([(data['T'] == 1) * (data['yo'+yType] == uniqueOutcome[i]) * (data['Age'] == -1)]):\n",
    "            VP = plt.violinplot(np.array(data['y'+yType][(data['T'] == 1) * (data['yo'+yType] == uniqueOutcome[i]) * (data['Age'] == -1)]), \\\n",
    "                          positions=[uniqueOutcome[i]], widths=10)\n",
    "            for pc in VP['bodies']:\n",
    "                pc.set_facecolor('green')\n",
    "                pc.set_edgecolor('green')\n",
    "            for partname in ('cbars','cmins','cmaxes'):\n",
    "                vp = VP[partname]\n",
    "                vp.set_edgecolor('green')\n",
    "                vp.set_facecolor('green')\n",
    "                vp.set_linewidth(1)\n",
    "            plt.text(x=uniqueOutcome[i], y=uniqueOutcome[i] + 1.1 * (np.max(data['y'+yType][data['yo'+yType] == uniqueOutcome[i]])-uniqueOutcome[i]), \n",
    "                     s=np.array(countUnique, dtype=str)[i], color='green', fontsize=15, ha='center')\n",
    "            \n",
    "        elif np.sum([(data['T'] == -1) * (data['yo'+yType] == uniqueOutcome[i]) * (data['Age'] == 1)]):\n",
    "            VP = plt.violinplot(np.array(data['y'+yType][(data['T'] == -1) * (data['yo'+yType] == uniqueOutcome[i]) * (data['Age'] == 1)]), \\\n",
    "                          positions=[uniqueOutcome[i]], widths=10)\n",
    "            for pc in VP['bodies']:\n",
    "                pc.set_facecolor('red')\n",
    "                pc.set_edgecolor('red')\n",
    "            for partname in ('cbars','cmins','cmaxes'):\n",
    "                vp = VP[partname]\n",
    "                vp.set_edgecolor('red')\n",
    "                vp.set_facecolor('red')\n",
    "                vp.set_linewidth(1)\n",
    "            plt.text(x=uniqueOutcome[i], y=uniqueOutcome[i] + 1.1 * (np.max(data['y'+yType][data['yo'+yType] == uniqueOutcome[i]])-uniqueOutcome[i]), \n",
    "                     s=np.array(countUnique, dtype=str)[i], color='red', fontsize=15, ha='center')\n",
    "        \n",
    "        elif np.sum([(data['T'] == -1) * (data['yo'+yType] == uniqueOutcome[i]) * (data['Age'] == -1)]):\n",
    "            VP = plt.violinplot(np.array(data['y'+yType][(data['T'] == -1) * (data['yo'+yType] == uniqueOutcome[i]) * (data['Age'] == -1)]), \\\n",
    "                          positions=[uniqueOutcome[i]], widths=10)\n",
    "            for pc in VP['bodies']:\n",
    "                pc.set_facecolor('red')\n",
    "                pc.set_edgecolor('red')\n",
    "            for partname in ('cbars','cmins','cmaxes'):\n",
    "                vp = VP[partname]\n",
    "                vp.set_edgecolor('red')\n",
    "                vp.set_facecolor('red')\n",
    "                vp.set_linewidth(1)\n",
    "            plt.text(x=uniqueOutcome[i], y=uniqueOutcome[i] + 1.1 * (np.max(data['y'+yType][data['yo'+yType] == uniqueOutcome[i]])-uniqueOutcome[i]), \n",
    "                     s=np.array(countUnique, dtype=str)[i], color='red', fontsize=15, ha='center')\n",
    "\n",
    "    plt.scatter(data['yo'+yType], data['yo'+yType], color='black', zorder=3)\n",
    "    plt.scatter(data['yo'+yType], data['yo'+yType+'CF'], color='black', zorder=3, marker='x')\n",
    "    plt.xlabel('Without Noise', fontsize=15)\n",
    "    plt.xticks(fontsize=15)\n",
    "    plt.ylabel('With Noise', fontsize=15)\n",
    "    plt.yticks(fontsize=15)\n",
    "    #plt.ylim(np.min(uniqueOutcome)-(np.max(uniqueOutcome)-np.min(uniqueOutcome))*0.2, np.max(uniqueOutcome)+(np.max(uniqueOutcome)-np.min(uniqueOutcome))*0.2)\n",
    "    #plt.xlim(np.min(uniqueOutcome)-(np.max(uniqueOutcome)-np.min(uniqueOutcome))*0.2, np.max(uniqueOutcome)+(np.max(uniqueOutcome)-np.min(uniqueOutcome))*0.2)\n",
    "    if title:\n",
    "        plt.title(\"Noise Effect | Case {} | {}\".format(yType, title), fontsize=20)\n",
    "    plt.show()"
   ]
  },
  {
   "cell_type": "code",
   "execution_count": null,
   "id": "2a7fad17",
   "metadata": {},
   "outputs": [],
   "source": [
    "def drawOutcomes(data, yType):\n",
    "    yClass = 'y{}'.format(yType)\n",
    "    yClassCF = 'y{}CF'.format(yType)\n",
    "    fig, axs = plt.subplots(1, 2, figsize=(20, 10))\n",
    "    # treat & male\n",
    "    condition = np.logical_and(data['T']==1, data['Sex']==1)\n",
    "    axs[0].scatter(data['Age'][condition], data[yClass][condition], color='blue')\n",
    "    axs[1].scatter(data['Age'][condition], data[yClassCF][condition], color='blue', marker='x')\n",
    "    # treat & female\n",
    "    condition = np.logical_and(data['T']==1, data['Sex']==-1)\n",
    "    axs[0].scatter(data['Age'][condition], data[yClass][condition], color='red')\n",
    "    axs[1].scatter(data['Age'][condition], data[yClassCF][condition], color='red', marker='x')\n",
    "    # untreat & male\n",
    "    condition = np.logical_and(data['T']==-1, data['Sex']==1)\n",
    "    axs[0].scatter(data['Age'][condition], data[yClass][condition], color='blue', marker='x')\n",
    "    axs[1].scatter(data['Age'][condition], data[yClassCF][condition], color='blue')\n",
    "    # untreat & female\n",
    "    condition = np.logical_and(data['T']==-1, data['Sex']==-1)\n",
    "    axs[0].scatter(data['Age'][condition], data[yClass][condition], color='red', marker='x')\n",
    "    axs[1].scatter(data['Age'][condition], data[yClassCF][condition], color='red')\n",
    "    \n",
    "    xAmplitude = (np.max(data['Age']) - np.min(data['Age']))/2\n",
    "    axs[0].set_xlim(np.min(data['Age'])-(xAmplitude)*0.1, np.max(data['Age'])+(xAmplitude)*0.1)\n",
    "    axs[1].set_xlim(np.min(data['Age'])-(xAmplitude)*0.1, np.max(data['Age'])+(xAmplitude)*0.1)\n",
    "    \n",
    "    yAmplitude = (np.max(data[yClass]) - np.min(data[yClass]))/2\n",
    "    axs[0].set_ylim(np.min(data[yClass])-(yAmplitude)*0.1, np.max(data[yClass])+(yAmplitude)*0.1)\n",
    "    axs[1].set_ylim(np.min(data[yClass])-(yAmplitude)*0.1, np.max(data[yClass])+(yAmplitude)*0.1)\n",
    "    \n",
    "    axs[0].set_xlabel('Age', fontsize=20)\n",
    "    axs[0].tick_params(axis='both', labelsize=20)\n",
    "    axs[0].set_ylabel('Outcome', fontsize=20)\n",
    "    axs[1].set_xlabel('Age', fontsize=20)\n",
    "    axs[1].tick_params(axis='both', labelsize=20)\n",
    "    axs[1].set_ylabel('Counterfactual Outcome', fontsize=20)\n",
    "    fig.suptitle('Case {}'.format(yType), fontsize=40)\n",
    "    plt.show()"
   ]
  },
  {
   "cell_type": "code",
   "execution_count": null,
   "id": "dd053411",
   "metadata": {
    "scrolled": false
   },
   "outputs": [],
   "source": [
    "# ========== draw noise effect on origin  y==========\n",
    "if doDraw:\n",
    "    yType = '1'\n",
    "    #drawOutcomesVersusRandom(oldData, yType=yType, title='Old')\n",
    "    #drawOutcomesVersusRandom(youngData, yType=yType, title='Young')\n",
    "    #drawOutcomesVersusRandom(totalData, yType=yType, title='Total')\n",
    "    drawOutcomes(totalData, yType=yType)\n",
    "    "
   ]
  },
  {
   "cell_type": "code",
   "execution_count": null,
   "id": "f1fd68b0",
   "metadata": {
    "scrolled": false
   },
   "outputs": [],
   "source": [
    "# ========== draw noise effect on origin  y==========\n",
    "if doDraw:\n",
    "    yType = '2'\n",
    "    #drawOutcomesVersusRandom(oldData, yType=yType, title='Old')\n",
    "    #drawOutcomesVersusRandom(youngData, yType=yType, title='Young')\n",
    "    #drawOutcomesVersusRandom(totalData, yType=yType, title='Total')\n",
    "    drawOutcomes(totalData, yType=yType)"
   ]
  },
  {
   "cell_type": "code",
   "execution_count": null,
   "id": "b5da0dc3",
   "metadata": {
    "scrolled": false
   },
   "outputs": [],
   "source": [
    "# ========== draw noise effect on origin  y==========\n",
    "if doDraw:\n",
    "    yType = '3'\n",
    "    #drawOutcomesVersusRandom(oldData, yType=yType, title='Old')\n",
    "    #drawOutcomesVersusRandom(youngData, yType=yType, title='Young')\n",
    "    #drawOutcomesVersusRandom(totalData, yType=yType, title='Total')\n",
    "    drawOutcomes(totalData, yType=yType)"
   ]
  },
  {
   "cell_type": "code",
   "execution_count": null,
   "id": "db44b3c7",
   "metadata": {},
   "outputs": [],
   "source": []
  },
  {
   "cell_type": "code",
   "execution_count": null,
   "id": "761721dc",
   "metadata": {},
   "outputs": [],
   "source": []
  }
 ],
 "metadata": {
  "kernelspec": {
   "display_name": "pytorchKernel",
   "language": "python",
   "name": "pytorchkernel"
  },
  "language_info": {
   "codemirror_mode": {
    "name": "ipython",
    "version": 3
   },
   "file_extension": ".py",
   "mimetype": "text/x-python",
   "name": "python",
   "nbconvert_exporter": "python",
   "pygments_lexer": "ipython3",
   "version": "3.8.12"
  }
 },
 "nbformat": 4,
 "nbformat_minor": 5
}
