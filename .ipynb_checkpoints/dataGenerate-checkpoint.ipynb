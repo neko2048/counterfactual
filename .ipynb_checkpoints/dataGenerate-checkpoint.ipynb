{
 "cells": [
  {
   "cell_type": "code",
   "execution_count": 1,
   "metadata": {},
   "outputs": [],
   "source": [
    "import numpy as np\n",
    "import pandas as pd\n",
    "import matplotlib.pyplot as plt"
   ]
  },
  {
   "cell_type": "markdown",
   "metadata": {},
   "source": [
    "# Content\n",
    "* [Data Generation](#Data-Generation)\n",
    "    1. [Parameter Setup](#Parameter-Setup)\n",
    "    2. [Patient Data Setup](#Patient-Data-Setup)\n",
    "    3. [Quick View](#Quick-View)\n",
    "\n",
    "    * [Case 1](#Case-1:-Apparent-Imbalance)\n",
    "\n",
    "    * [Case 2](#Case-2:-Apparent-Imbalance)\n",
    "\n",
    "    * [Case 3](#Case-3:-Genuine-Imbalance)\n",
    "    \n",
    "* [NN Performance](#NN-Performance)"
   ]
  },
  {
   "cell_type": "markdown",
   "metadata": {},
   "source": [
    "# Data Generation"
   ]
  },
  {
   "cell_type": "markdown",
   "metadata": {},
   "source": [
    "## Parameter Setup"
   ]
  },
  {
   "cell_type": "code",
   "execution_count": 2,
   "metadata": {},
   "outputs": [
    {
     "name": "stdout",
     "output_type": "stream",
     "text": [
      "A: 0.51\n",
      "B: 0.46\n",
      "C: 0.14\n",
      "D: 0.68\n"
     ]
    }
   ],
   "source": [
    "A = round(np.random.uniform(0, 1), 2)\n",
    "B = round(np.random.uniform(0, 1), 2)\n",
    "C = round(np.random.uniform(0, 1), 2)\n",
    "D = round(np.random.uniform(0, 1), 2)\n",
    "print(\"A: {}\\nB: {}\\nC: {}\\nD: {}\".format(A, B, C, D))"
   ]
  },
  {
   "cell_type": "markdown",
   "metadata": {},
   "source": [
    "## Patient Data Setup"
   ]
  },
  {
   "cell_type": "code",
   "execution_count": null,
   "metadata": {},
   "outputs": [],
   "source": [
    "Nold, Nyoung = 500, 500\n",
    "oldTreatRate,youngTreatRate = 0.01, 0.99 # *100%\n",
    "\n",
    "# Sex (binary, 0 is female and 1 is male)\n",
    "oldSex = np.random.choice([0, 1], p=[0.5, 0.5], size=(Nold, ))\n",
    "youngSex = np.random.choice([0, 1], p=[0.5, 0.5], size=(Nyoung, ))\n",
    "\n",
    "# Treatment\n",
    "oldT = np.array([0] * int(Nold * round(1-oldTreatRate, 2)) + [1] * int(Nold * round(oldTreatRate, 2)))\n",
    "youngT = np.array([0] * int(Nyoung * round(1-youngTreatRate, 2)) + [1] * int(Nyoung * round(youngTreatRate, 2)))\n",
    "\n",
    "# Age (binary, 0 is young and 1 is old)\n",
    "oldAge = np.full(Nold, 1)\n",
    "youngAge = np.full(Nyoung, 0)"
   ]
  },
  {
   "cell_type": "code",
   "execution_count": null,
   "metadata": {},
   "outputs": [],
   "source": [
    "oldData = np.vstack((oldT, oldAge, oldSex)).T\n",
    "oldData = pd.DataFrame(oldData)\n",
    "oldData = oldData.rename(columns={0:'T', 1:'Age', 2:'Sex'})\n",
    "oldData = oldData.sample(frac=1)\n",
    "\n",
    "youngData = np.vstack((youngT, youngAge, youngSex)).T\n",
    "youngData = pd.DataFrame(youngData)\n",
    "youngData = youngData.rename(columns={0:'T', 1:'Age', 2:'Sex'})\n",
    "youngData = youngData.sample(frac=1)"
   ]
  },
  {
   "cell_type": "code",
   "execution_count": null,
   "metadata": {},
   "outputs": [],
   "source": [
    "print(oldData.describe())\n",
    "print('-'*50)\n",
    "print(youngData.describe())"
   ]
  },
  {
   "cell_type": "markdown",
   "metadata": {},
   "source": [
    "---"
   ]
  },
  {
   "cell_type": "markdown",
   "metadata": {},
   "source": [
    "## Case 1: Apparent Imbalance\n",
    "$$y = A\\times Sex +$$\n",
    "$$B\\times T + $$\n",
    "$$D\\times Sex \\times T$$"
   ]
  },
  {
   "cell_type": "code",
   "execution_count": null,
   "metadata": {},
   "outputs": [],
   "source": [
    "def getOutcome1(data):\n",
    "    return A * data['Sex'] + B * data['T'] + D * data['Sex'] * data['T']\n",
    "\n",
    "oldData['yo1'] = getOutcome1(oldData)\n",
    "oldData['y1'] = oldData['yo1'] + np.random.normal(loc=0, scale=0.1, size=(Nold, ))\n",
    "youngData['yo1'] = getOutcome1(youngData)\n",
    "youngData['y1'] = youngData['yo1'] + np.random.normal(loc=0, scale=0.1, size=(Nold, ))"
   ]
  },
  {
   "cell_type": "markdown",
   "metadata": {},
   "source": [
    "## Case 2: Apparent Imbalance\n",
    "$$y = A\\times Sex +$$\n",
    "$$B\\times T + $$\n",
    "$$C\\times Age + $$\n",
    "$$D\\times Age\\times Sex$$"
   ]
  },
  {
   "cell_type": "code",
   "execution_count": null,
   "metadata": {},
   "outputs": [],
   "source": [
    "def getOutcome2(data):\n",
    "    return A * data['Sex'] + B * data['T'] + C * data['Age'] + D * data['Age'] * data['Sex']\n",
    "\n",
    "oldData['yo2'] = getOutcome2(oldData)\n",
    "oldData['y2'] = oldData['yo2'] + np.random.normal(loc=0, scale=0.1, size=(Nold, ))\n",
    "youngData['yo2'] = getOutcome1(youngData)\n",
    "youngData['y2'] = youngData['yo2'] + np.random.normal(loc=0, scale=0.1, size=(Nold, ))"
   ]
  },
  {
   "cell_type": "markdown",
   "metadata": {},
   "source": [
    "## Case 3: Genuine Imbalance\n",
    "$$y = A\\times Sex +$$\n",
    "$$B\\times T + $$\n",
    "$$C\\times Age + $$\n",
    "$$D\\times Age\\times T$$"
   ]
  },
  {
   "cell_type": "code",
   "execution_count": null,
   "metadata": {},
   "outputs": [],
   "source": [
    "def getOutcome3(data):\n",
    "    return A * data['Sex'] + B * data['T'] + C * data['Age'] + D * data['Age'] * data['T']\n",
    "\n",
    "oldData['yo3'] = getOutcome3(oldData)\n",
    "oldData['y3'] = oldData['yo3'] + np.random.normal(loc=0, scale=0.1, size=(Nold, ))\n",
    "youngData['yo3'] = getOutcome3(youngData)\n",
    "youngData['y3'] = youngData['yo3'] + np.random.normal(loc=0, scale=0.1, size=(Nold, ))"
   ]
  },
  {
   "cell_type": "code",
   "execution_count": null,
   "metadata": {
    "scrolled": true
   },
   "outputs": [],
   "source": [
    "# Combine Both Young and Old\n",
    "totalData = pd.concat([oldData, youngData], axis=0).sample(frac=1)\n",
    "totalData"
   ]
  },
  {
   "cell_type": "markdown",
   "metadata": {},
   "source": [
    "## Quick View"
   ]
  },
  {
   "cell_type": "code",
   "execution_count": null,
   "metadata": {},
   "outputs": [],
   "source": [
    "# some controlling parameters locally\n",
    "doDraw = False\n",
    "doSave = True"
   ]
  },
  {
   "cell_type": "code",
   "execution_count": null,
   "metadata": {},
   "outputs": [],
   "source": [
    "def countNumber(data, x, y):\n",
    "    uniqueX, uniqueY = np.unique(data[x]), np.unique(data[y])\n",
    "    countGrid = np.zeros((len(uniqueX), len(uniqueY)))\n",
    "    for i in range(countGrid.shape[0]): # x length\n",
    "        for j in range(countGrid.shape[1]): # y length\n",
    "            countGrid[i, j] = np.sum(np.logical_and(data[x] == uniqueX[i], data[y] == uniqueY[j]))\n",
    "    return countGrid\n",
    "\n",
    "def drawGrid(data, x, y, title=None):\n",
    "    countGrid = countNumber(data, x, y)\n",
    "    fig, axs = plt.subplots(1, 1, figsize=(5, 5))\n",
    "    plt.pcolormesh(countGrid.T, cmap=\"autumn\", edgecolors='black')\n",
    "    for i in range(countGrid.shape[0]):\n",
    "        for j in range(countGrid.shape[1]):\n",
    "            plt.text(i+0.5, j+0.5, int(countGrid[i, j]), va=\"center\", ha=\"center\", size=20)\n",
    "    plt.xlabel(x, fontsize=15)\n",
    "    plt.ylabel(y, fontsize=15)\n",
    "    plt.xticks(np.unique(data[x])+0.5, np.unique(data[x]), fontsize=15)\n",
    "    plt.yticks(np.unique(data[y])+0.5, np.unique(data[y]), fontsize=15)\n",
    "    if title:\n",
    "        plt.title(title, fontsize=15)\n",
    "    plt.show()"
   ]
  },
  {
   "cell_type": "code",
   "execution_count": null,
   "metadata": {
    "scrolled": true
   },
   "outputs": [],
   "source": [
    "if doDraw:\n",
    "    drawGrid(oldData, 'Sex', 'T', title=\"Number Distribution of Old Sex-Treatment\")\n",
    "    drawGrid(youngData, 'Sex', 'T', title=\"Number Distribution of Young Sex-Treatment\")\n",
    "    drawGrid(totalData, 'Sex', 'T', title=\"Number Distribution of Total Sex-Treatment\")"
   ]
  },
  {
   "cell_type": "code",
   "execution_count": null,
   "metadata": {
    "scrolled": true
   },
   "outputs": [],
   "source": [
    "if doDraw:\n",
    "    drawGrid(totalData, 'Age', 'Sex', title=\"Number Distribution of Total Age-Sex\")\n",
    "    drawGrid(totalData, 'Age', 'T', title=\"Number Distribution of Total Age-Treatment\")"
   ]
  },
  {
   "cell_type": "code",
   "execution_count": null,
   "metadata": {},
   "outputs": [],
   "source": [
    "def drawOutcomesVersusRandom(data, yType, title):\n",
    "    uniqueOutcome, countUnique = np.unique(data['yo'+yType], return_counts=True)\n",
    "\n",
    "    fig, axs = plt.subplots(1, 1, figsize=(10, 10))\n",
    "    for i in range(len(uniqueOutcome)):\n",
    "        if np.sum([np.logical_and(data['T'] == 1, data['yo'+yType] == uniqueOutcome[i])]):\n",
    "            VP = plt.violinplot(np.array(data['y'+yType][np.logical_and(data['T'] == 1, data['yo'+yType] == uniqueOutcome[i])]), \\\n",
    "                          positions=[uniqueOutcome[i]], widths=0.2)\n",
    "            for pc in VP['bodies']:\n",
    "                pc.set_facecolor('green')\n",
    "                pc.set_edgecolor('green')\n",
    "            for partname in ('cbars','cmins','cmaxes'):\n",
    "                vp = VP[partname]\n",
    "                vp.set_edgecolor('green')\n",
    "                vp.set_facecolor('green')\n",
    "                vp.set_linewidth(1)\n",
    "            plt.text(x=uniqueOutcome[i], y=uniqueOutcome[i] + 1.1 * (np.max(data['y'+yType][data['yo'+yType] == uniqueOutcome[i]])-uniqueOutcome[i]), \n",
    "                     s=np.array(countUnique, dtype=str)[i], color='green', fontsize=15, ha='center')\n",
    "\n",
    "        elif np.sum([np.logical_and(data['T'] == 0, data['yo'+yType] == uniqueOutcome[i])]):\n",
    "            VP = plt.violinplot(np.array(data['y'+yType][np.logical_and(data['T'] == 0, data['yo'+yType] == uniqueOutcome[i])]), \\\n",
    "                          positions=[uniqueOutcome[i]], widths=0.2)\n",
    "            for pc in VP['bodies']:\n",
    "                pc.set_facecolor('red')\n",
    "                pc.set_edgecolor('red')\n",
    "            for partname in ('cbars','cmins','cmaxes'):\n",
    "                vp = VP[partname]\n",
    "                vp.set_edgecolor('red')\n",
    "                vp.set_facecolor('red')\n",
    "                vp.set_linewidth(1)\n",
    "            plt.text(x=uniqueOutcome[i], y=uniqueOutcome[i] + 1.1 * (np.max(data['y'+yType][data['yo'+yType] == uniqueOutcome[i]])-uniqueOutcome[i]), \n",
    "                     s=np.array(countUnique, dtype=str)[i], color='red', fontsize=15, ha='center')\n",
    "    plt.scatter(uniqueOutcome, uniqueOutcome, color='black', zorder=3)\n",
    "    plt.xlabel('Without Noise', fontsize=15)\n",
    "    plt.xticks(fontsize=15)\n",
    "    plt.ylabel('With Noise', fontsize=15)\n",
    "    plt.yticks(fontsize=15)\n",
    "    if title:\n",
    "        plt.title(\"Noise Effect | Case {} | {}\".format(yType, title), fontsize=20)\n",
    "    plt.show()"
   ]
  },
  {
   "cell_type": "code",
   "execution_count": null,
   "metadata": {
    "scrolled": true
   },
   "outputs": [],
   "source": [
    "if doDraw:\n",
    "    yType = '3'\n",
    "    drawOutcomesVersusRandom(oldData, yType=yType, title='Old')\n",
    "    drawOutcomesVersusRandom(youngData, yType=yType, title='Young')\n",
    "    drawOutcomesVersusRandom(totalData, yType=yType, title='Total')"
   ]
  },
  {
   "cell_type": "code",
   "execution_count": null,
   "metadata": {},
   "outputs": [],
   "source": [
    "if doSave:\n",
    "    np.savetxt('data/oldData.txt', oldData)\n",
    "    np.savetxt('data/youngData.txt', youngData)\n",
    "    np.savetxt('data/totalData.txt', totalData)"
   ]
  },
  {
   "cell_type": "markdown",
   "metadata": {},
   "source": [
    "---"
   ]
  },
  {
   "cell_type": "markdown",
   "metadata": {},
   "source": [
    "# NN Performance"
   ]
  },
  {
   "cell_type": "raw",
   "metadata": {},
   "source": [
    "# from sklearn.model_selection import train_test_split\n",
    "import torch as t\n",
    "import torch.nn as nn\n",
    "import torch.nn.functional as f\n",
    "import torch.optim as optim"
   ]
  },
  {
   "cell_type": "raw",
   "metadata": {},
   "source": [
    "useGPU = t.cuda.is_available()\n",
    "dev = t.device(\"cuda\" if useGPU else \"cpu\")\n",
    "print(\"Now {} is available, GPU: {}\".format(dev, useGPU))"
   ]
  },
  {
   "cell_type": "raw",
   "metadata": {},
   "source": [
    "class NeuralNetwork(nn.Module):\n",
    "    def __init__(self):\n",
    "        super(NeuralNetwork, self).__init__()\n",
    "        \n",
    "        self.fc1 = nn.Linear(3, 16)\n",
    "        self.fc2 = nn.Linear(16, 32)\n",
    "        self.fc3 = nn.Linear(32, 16)\n",
    "        self.fc4 = nn.Linear(16, 1)\n",
    "        \n",
    "    def forward(self, x):\n",
    "        x = self.fc1(x)\n",
    "        x = self.fc2(x)\n",
    "        x = self.fc3(x)\n",
    "        x = self.fc4(x)\n",
    "        return x\n",
    "    \n",
    "class DataLoader():\n",
    "    def __init__(self, data, caseType):\n",
    "        self.data = data[['Sex', 'Age', 'T', 'y'+str(caseType)]]\n",
    "        \n",
    "    def transformToTensor(self, arr):\n",
    "        arr = t.tensor(np.array(arr)).to(t.float32)\n",
    "        if useGPU:\n",
    "            arr = arr.cuda()\n",
    "        return arr\n",
    "\n",
    "    def splitToTrainTest(self, testRatio):\n",
    "        return train_test_split(self.data, test_size=testRatio)\n",
    "    \n",
    "def MSE(output, target):\n",
    "    return np.mean((output - target)**2)\n",
    "\n",
    "def trainModel(model, \n",
    "               trainData, \n",
    "               optimizer, \n",
    "               lossFn, \n",
    "               doValidate=False, \n",
    "               numEpochs=3):\n",
    "    for epoch in range(numEpochs):\n",
    "        trainLoss = 0\n",
    "        #model = model.train()\n",
    "        feature, target = trainData.trainxTorch, trainData.trainyTorch\n",
    "        # ========== training step ========== \n",
    "        for idx in range(len(trainData.trainxTorch)):\n",
    "            # forward\n",
    "            output = model(feature)\n",
    "            output = t.squeeze(output)\n",
    "            loss = lossFn(output, target)\n",
    "            # backward\n",
    "            optimizer.zero_grad()\n",
    "            loss.backward()\n",
    "            optimizer.step()\n",
    "\n",
    "            trainLoss += loss\n",
    "        "
   ]
  },
  {
   "cell_type": "raw",
   "metadata": {},
   "source": [
    "cs1 = DataLoader(totalData, caseType=1)\n",
    "cs1.trainData, cs1.testData = cs1.splitToTrainTest(testRatio=0.2)\n",
    "cs1.trainxTorch = cs1.transformToTensor(cs1.trainData.iloc[:, :3])\n",
    "cs1.trainyTorch = cs1.transformToTensor(cs1.trainData.iloc[:, -1])\n",
    "\n",
    "cs1.testxTorch = cs1.transformToTensor(cs1.testData.iloc[:, :3])\n",
    "cs1.testyTorch = cs1.transformToTensor(cs1.testData.iloc[:, -1])\n",
    "\n",
    "#model = NeuralNetwork()\n",
    "model = t.nn.Sequential(\n",
    "    t.nn.Linear(3, 16),\n",
    "    t.nn.ReLU(),\n",
    "    t.nn.Linear(16, 32),\n",
    "    t.nn.ReLU(),\n",
    "    t.nn.Linear(32, 16),\n",
    "    t.nn.ReLU(),\n",
    "    t.nn.Linear(16, 1),\n",
    ")\n",
    "\n",
    "\n",
    "loss_fn = t.nn.MSELoss()\n",
    "learning_rate = 1e-4\n",
    "optimizer = t.optim.Adam(model.parameters(), lr=learning_rate) #https://pytorch.org/docs/stable/optim.html\n",
    "if(useGPU):\n",
    "    model=model.cuda()\n",
    "    loss_fn=loss_fn.cuda()"
   ]
  },
  {
   "cell_type": "raw",
   "metadata": {
    "scrolled": true
   },
   "source": [
    "numTurns = 2\n",
    "\n",
    "for turn in range(numTurns):\n",
    "    print('-' * 20 + str(turn) + '-' * 20)\n",
    "    #train_dt, valid_dt = ldata, None\n",
    "    \n",
    "    trainModel(model=model, trainData=cs1, optimizer=optimizer, lossFn=nn.MSELoss())\n",
    "\n",
    "print('=' * 10 + 'COMPLETE' + '=' * 10)"
   ]
  },
  {
   "cell_type": "code",
   "execution_count": null,
   "metadata": {},
   "outputs": [],
   "source": []
  },
  {
   "cell_type": "raw",
   "metadata": {},
   "source": [
    "\n",
    "        # ========== validation =========== \n",
    "        if doValidate:\n",
    "            valid_loss = 0\n",
    "            net = net.eval()\n",
    "            for idx in range(len(valid_dt)):\n",
    "                feature, label = valid_dt[idx, 0:4], valid_dt[idx, -1]\n",
    "                output = net(feature)\n",
    "                output.unsqueeze_(0)\n",
    "                loss = loss_fn(output, label)\n",
    "                valid_loss += loss\n",
    "            epoch_str = (\"Epoch %d. Train Loss: %f, Valid Loss: %f, \"\n",
    "                % (epoch, train_loss / len(train_dt), valid_loss / len(valid_dt)))\n",
    "        #else:\n",
    "        #    pass\n",
    "        #    epoch_str = (\"Epoch %d. Train Loss: %f\" %\n",
    "        #                 (epoch, train_loss / len(train_dt)))\n",
    "        #print(epoch_str)"
   ]
  },
  {
   "cell_type": "raw",
   "metadata": {},
   "source": [
    "D_in,H,D_out=3,64,1\n",
    "\n",
    "# Training the network:\n",
    "model = t.nn.Sequential(\n",
    "    t.nn.Linear(D_in, H),\n",
    "    #t.nn.BatchNorm1d(H),\n",
    "    t.nn.ReLU(),  # Keyword : vanishing gradient problem\n",
    "    #t.nn.Dropout(p=0.5),\n",
    "    #t.nn.Linear(H, H),\n",
    "    #t.nn.BatchNorm1d(H),\n",
    "    #ct.nn.ReLU(),\n",
    "    #t.nn.Dropout(p=0.5),\n",
    "    t.nn.Linear(H, D_out),\n",
    ")\n",
    "\n",
    "loss_fn = t.nn.MSELoss()\n",
    "learning_rate = 1e-4\n",
    "optimizer = t.optim.Adam(model.parameters(), lr=learning_rate) #https://pytorch.org/docs/stable/optim.html\n",
    "\n",
    "if(useGPU):\n",
    "    model=model.cuda()\n",
    "    loss_fn=loss_fn.cuda()\n",
    "    \n",
    "    \n",
    "X_train, Y_train = cs1.trainxTorch, cs1.trainyTorch\n",
    "print(X_train, Y_train)\n",
    "    \n",
    "for i in range(1000):\n",
    "    # Forward pass:\n",
    "    Y_pred = model(X_train)\n",
    "\n",
    "    loss = loss_fn(Y_pred, Y_train)\n",
    "    \n",
    "    # Zero the gradients before running the backward pass.\n",
    "    model.zero_grad()\n",
    "\n",
    "    # Backward pass:\n",
    "    loss.backward()\n",
    "\n",
    "    # Update the weights using gradient descent:\n",
    "    optimizer.step()\n",
    "    \n",
    "    # Check training accuracy:\n",
    "    if i % 50 == 0:\n",
    "        Y_pred = model(X_train) # Y_pred.shape=[50000,10]\n",
    "        Y_pred = t.max(Y_pred,1)[1] # Y_pred.shape=[50000]\n",
    "        print('epoch ',i,':',loss)"
   ]
  },
  {
   "cell_type": "code",
   "execution_count": null,
   "metadata": {},
   "outputs": [],
   "source": []
  }
 ],
 "metadata": {
  "kernelspec": {
   "display_name": "local-venv",
   "language": "python",
   "name": "local-venv"
  },
  "language_info": {
   "codemirror_mode": {
    "name": "ipython",
    "version": 3
   },
   "file_extension": ".py",
   "mimetype": "text/x-python",
   "name": "python",
   "nbconvert_exporter": "python",
   "pygments_lexer": "ipython3",
   "version": "3.8.12"
  }
 },
 "nbformat": 4,
 "nbformat_minor": 4
}
